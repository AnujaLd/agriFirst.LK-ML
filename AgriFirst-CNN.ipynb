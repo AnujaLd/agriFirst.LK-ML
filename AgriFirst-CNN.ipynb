{
  "cells": [
    {
      "cell_type": "code",
      "execution_count": 1,
      "metadata": {
        "colab": {
          "base_uri": "https://localhost:8080/"
        },
        "id": "_TbJijOLt0Ga",
        "outputId": "4103b796-5c47-4724-e948-09b78b502baf"
      },
      "outputs": [
        {
          "name": "stdout",
          "output_type": "stream",
          "text": [
            "Wed Sep 13 12:29:21 2023       \n",
            "+-----------------------------------------------------------------------------+\n",
            "| NVIDIA-SMI 525.105.17   Driver Version: 525.105.17   CUDA Version: 12.0     |\n",
            "|-------------------------------+----------------------+----------------------+\n",
            "| GPU  Name        Persistence-M| Bus-Id        Disp.A | Volatile Uncorr. ECC |\n",
            "| Fan  Temp  Perf  Pwr:Usage/Cap|         Memory-Usage | GPU-Util  Compute M. |\n",
            "|                               |                      |               MIG M. |\n",
            "|===============================+======================+======================|\n",
            "|   0  Tesla T4            Off  | 00000000:00:04.0 Off |                    0 |\n",
            "| N/A   67C    P8    12W /  70W |      0MiB / 15360MiB |      0%      Default |\n",
            "|                               |                      |                  N/A |\n",
            "+-------------------------------+----------------------+----------------------+\n",
            "                                                                               \n",
            "+-----------------------------------------------------------------------------+\n",
            "| Processes:                                                                  |\n",
            "|  GPU   GI   CI        PID   Type   Process name                  GPU Memory |\n",
            "|        ID   ID                                                   Usage      |\n",
            "|=============================================================================|\n",
            "|  No running processes found                                                 |\n",
            "+-----------------------------------------------------------------------------+\n"
          ]
        }
      ],
      "source": [
        "! nvidia-smi"
      ]
    },
    {
      "cell_type": "code",
      "execution_count": 2,
      "metadata": {
        "colab": {
          "base_uri": "https://localhost:8080/"
        },
        "id": "HNDmTlG-uFgW",
        "outputId": "2a9ed172-2b5b-4752-d194-067fa36bd753"
      },
      "outputs": [
        {
          "name": "stdout",
          "output_type": "stream",
          "text": [
            "Mounted at /content/drive\n"
          ]
        }
      ],
      "source": [
        "from google.colab import drive\n",
        "drive.mount(\"/content/drive\", force_remount=True)"
      ]
    },
    {
      "cell_type": "code",
      "execution_count": 6,
      "metadata": {
        "id": "lEOkBuD_lHir"
      },
      "outputs": [],
      "source": [
        "data_dir = '/content/drive/MyDrive/Agrifirst'\n",
        "train_dir = data_dir + '/Train/image_train'\n",
        "valid_dir = '/content/drive/MyDrive/Agrifirst/Valid/image_valid'\n",
        "test_dir = '/content/drive/MyDrive/Agrifirst/Test/image_test'"
      ]
    },
    {
      "cell_type": "code",
      "execution_count": 7,
      "metadata": {
        "id": "mkMTlPYilpFd"
      },
      "outputs": [],
      "source": [
        "import tensorflow\n",
        "from tensorflow import keras\n",
        "from tensorflow.keras.applications.efficientnet_v2 import EfficientNetV2S\n",
        "from tensorflow.keras.preprocessing import image\n",
        "from tensorflow.keras.models import load_model\n",
        "from tensorflow.keras.applications.efficientnet_v2 import preprocess_input, decode_predictions\n",
        "from tensorflow.keras.utils import to_categorical\n",
        "import numpy as np\n",
        "import os, shutil"
      ]
    },
    {
      "cell_type": "code",
      "execution_count": 8,
      "metadata": {
        "id": "95q8nFQIlpaw"
      },
      "outputs": [],
      "source": [
        "from keras.models import Sequential,load_model,Model\n",
        "from keras.layers import Conv2D,MaxPool2D,AveragePooling2D,Dense,Flatten,ZeroPadding2D,BatchNormalization,Activation,Add,Input,Dropout,GlobalAveragePooling2D\n",
        "from keras.initializers import glorot_uniform\n",
        "from keras.preprocessing.image import ImageDataGenerator\n",
        "from keras.callbacks import ModelCheckpoint,EarlyStopping,ReduceLROnPlateau"
      ]
    },
    {
      "cell_type": "code",
      "execution_count": 9,
      "metadata": {
        "id": "y683FZ4glpds"
      },
      "outputs": [],
      "source": [
        "newpath = '/content/drive/MyDrive/Agrifirst/Testing_Path'\n",
        "if not os.path.exists(newpath):\n",
        "    os.makedirs(newpath)\n",
        "\n",
        "x = os.listdir(train_dir)\n",
        "for dir_names in x:\n",
        "  # print(dir_names)\n",
        "  p = os.listdir(os.path.join(train_dir, dir_names))\n",
        "  if not os.path.exists(os.path.join(newpath, dir_names)):\n",
        "    os.makedirs(os.path.join(newpath, dir_names))\n",
        "  cnt = 0\n",
        "  file_names = []\n",
        "  for image_names in p:\n",
        "    if cnt==250:\n",
        "      break\n",
        "    file_names.append(train_dir+'/'+dir_names+'/'+image_names)\n",
        "    cnt += 1\n",
        "  for f in file_names:\n",
        "    shutil.move(f, os.path.join(newpath, dir_names))\n",
        "\n",
        "\n"
      ]
    },
    {
      "cell_type": "code",
      "execution_count": 10,
      "metadata": {
        "colab": {
          "base_uri": "https://localhost:8080/"
        },
        "id": "zcXcxEf7l84m",
        "outputId": "ac4f2451-3011-483b-bc24-d9183a7489a6"
      },
      "outputs": [
        {
          "name": "stdout",
          "output_type": "stream",
          "text": [
            "Found 40797 images belonging to 48 classes.\n",
            "Found 51142 images belonging to 48 classes.\n",
            "Found 51142 images belonging to 48 classes.\n"
          ]
        }
      ],
      "source": [
        "train_datagen = ImageDataGenerator(shear_range=0.2,zoom_range=0.2,horizontal_flip=False,vertical_flip=False\n",
        "                                  ,fill_mode='nearest',width_shift_range=0.2,height_shift_range=0.2)\n",
        "\n",
        "val_datagen = ImageDataGenerator()\n",
        "\n",
        "train = train_datagen.flow_from_directory(directory=train_dir,batch_size=32,target_size=(224,224),\n",
        "                                         color_mode='rgb',class_mode='categorical',seed=42)\n",
        "\n",
        "valid = val_datagen.flow_from_directory(directory=valid_dir,batch_size=32,target_size=(224,224),color_mode='rgb',class_mode='categorical')\n",
        "\n",
        "test_datagen = ImageDataGenerator()\n",
        "\n",
        "test = test_datagen.flow_from_directory(directory=test_dir,batch_size=32,target_size=(224,224),color_mode='rgb',class_mode='categorical')"
      ]
    },
    {
      "cell_type": "code",
      "execution_count": 11,
      "metadata": {
        "colab": {
          "base_uri": "https://localhost:8080/"
        },
        "id": "Buj4LAjWl88g",
        "outputId": "9780e5d9-f27c-4fab-d535-942e4cfffe48"
      },
      "outputs": [
        {
          "name": "stdout",
          "output_type": "stream",
          "text": [
            "Downloading data from https://storage.googleapis.com/tensorflow/keras-applications/efficientnet_v2/efficientnetv2-s_notop.h5\n",
            "82420632/82420632 [==============================] - 0s 0us/step\n"
          ]
        }
      ],
      "source": [
        "base_model_tf=EfficientNetV2S(include_top=False,weights='imagenet',input_shape=(224,224,3),classes=48)"
      ]
    },
    {
      "cell_type": "code",
      "execution_count": 17,
      "metadata": {
        "colab": {
          "base_uri": "https://localhost:8080/"
        },
        "id": "b8EWTrn2l8_K",
        "outputId": "e301976b-d896-4d1d-fab8-423054429583"
      },
      "outputs": [
        {
          "name": "stdout",
          "output_type": "stream",
          "text": [
            "Model: \"model_2\"\n",
            "_________________________________________________________________\n",
            " Layer (type)                Output Shape              Param #   \n",
            "=================================================================\n",
            " input_4 (InputLayer)        [(None, 224, 224, 3)]     0         \n",
            "                                                                 \n",
            " tf.cast_2 (TFOpLambda)      (None, 224, 224, 3)       0         \n",
            "                                                                 \n",
            " efficientnetv2-s (Function  (None, 7, 7, 1280)        20331360  \n",
            " al)                                                             \n",
            "                                                                 \n",
            " global_average_pooling2d_2  (None, 1280)              0         \n",
            "  (GlobalAveragePooling2D)                                       \n",
            "                                                                 \n",
            " dense_6 (Dense)             (None, 128)               163968    \n",
            "                                                                 \n",
            " dense_7 (Dense)             (None, 64)                8256      \n",
            "                                                                 \n",
            " dense_8 (Dense)             (None, 48)                3120      \n",
            "                                                                 \n",
            "=================================================================\n",
            "Total params: 20506704 (78.23 MB)\n",
            "Trainable params: 175344 (684.94 KB)\n",
            "Non-trainable params: 20331360 (77.56 MB)\n",
            "_________________________________________________________________\n"
          ]
        }
      ],
      "source": [
        "base_model_tf.trainable=False\n",
        "\n",
        "pt=Input(shape=(224,224,3))\n",
        "func=tensorflow.cast(pt,tensorflow.float32)\n",
        "x=preprocess_input(func) #This function used to zero-center each color channel wrt Imagenet dataset\n",
        "model_resnet=base_model_tf(x,training=False)\n",
        "model_resnet=GlobalAveragePooling2D()(model_resnet)\n",
        "model_resnet=Dense(128,activation='relu')(model_resnet)\n",
        "model_resnet=Dense(64,activation='relu')(model_resnet)\n",
        "model_resnet=Dense(48,activation='softmax')(model_resnet)\n",
        "\n",
        "\n",
        "model_main=Model(inputs=pt,outputs=model_resnet)\n",
        "model_main.summary()"
      ]
    },
    {
      "cell_type": "code",
      "execution_count": 18,
      "metadata": {
        "id": "ud-_0Q4zl9Bw"
      },
      "outputs": [],
      "source": [
        "es=EarlyStopping(monitor='accuracy',verbose=1,patience=5,mode='auto')\n",
        "mc=ModelCheckpoint(filepath='/content',monitor='val_accuracy',verbose=1,save_best_only=True)\n",
        "lr=ReduceLROnPlateau(monitor='val_accuracy',verbose=1,patience=3,min_lr=0.001)"
      ]
    },
    {
      "cell_type": "code",
      "execution_count": 19,
      "metadata": {
        "id": "x9rmTjIomTVd"
      },
      "outputs": [],
      "source": [
        "model_main.compile(optimizer='Adam',loss='categorical_crossentropy',metrics=['accuracy'])"
      ]
    },
    {
      "cell_type": "code",
      "execution_count": 20,
      "metadata": {
        "colab": {
          "base_uri": "https://localhost:8080/"
        },
        "id": "o16bBqfqmW5_",
        "outputId": "4ed5d7d1-3a3e-4c52-b56b-69bbdcee0998"
      },
      "outputs": [
        {
          "name": "stdout",
          "output_type": "stream",
          "text": [
            "Epoch 1/20\n",
            "200/200 [==============================] - 391s 2s/step - loss: 1.4969 - accuracy: 0.5897 - val_loss: 0.9167 - val_accuracy: 0.7778 - lr: 0.0010\n",
            "Epoch 2/20\n",
            "200/200 [==============================] - 339s 2s/step - loss: 0.5268 - accuracy: 0.8373 - val_loss: 0.7190 - val_accuracy: 0.8533 - lr: 0.0010\n",
            "Epoch 3/20\n",
            "200/200 [==============================] - 318s 2s/step - loss: 0.3790 - accuracy: 0.8787 - val_loss: 0.6388 - val_accuracy: 0.8804 - lr: 0.0010\n",
            "Epoch 4/20\n",
            "200/200 [==============================] - 309s 2s/step - loss: 0.3031 - accuracy: 0.9025 - val_loss: 0.6767 - val_accuracy: 0.8737 - lr: 0.0010\n",
            "Epoch 5/20\n",
            "200/200 [==============================] - 366s 2s/step - loss: 0.2672 - accuracy: 0.9139 - val_loss: 0.6053 - val_accuracy: 0.8935 - lr: 0.0010\n",
            "Epoch 6/20\n",
            "200/200 [==============================] - 309s 2s/step - loss: 0.2442 - accuracy: 0.9191 - val_loss: 0.5896 - val_accuracy: 0.9050 - lr: 0.0010\n",
            "Epoch 7/20\n",
            "200/200 [==============================] - 316s 2s/step - loss: 0.2368 - accuracy: 0.9209 - val_loss: 0.5650 - val_accuracy: 0.9124 - lr: 0.0010\n",
            "Epoch 8/20\n",
            "200/200 [==============================] - 308s 2s/step - loss: 0.2133 - accuracy: 0.9264 - val_loss: 0.5737 - val_accuracy: 0.9090 - lr: 0.0010\n",
            "Epoch 9/20\n",
            "200/200 [==============================] - 316s 2s/step - loss: 0.1941 - accuracy: 0.9370 - val_loss: 0.5798 - val_accuracy: 0.9126 - lr: 0.0010\n",
            "Epoch 10/20\n",
            "200/200 [==============================] - 308s 2s/step - loss: 0.1895 - accuracy: 0.9361 - val_loss: 0.5608 - val_accuracy: 0.9109 - lr: 0.0010\n",
            "Epoch 11/20\n",
            "200/200 [==============================] - 306s 2s/step - loss: 0.1786 - accuracy: 0.9394 - val_loss: 0.5408 - val_accuracy: 0.9272 - lr: 0.0010\n",
            "Epoch 12/20\n",
            "200/200 [==============================] - 307s 2s/step - loss: 0.1789 - accuracy: 0.9381 - val_loss: 0.5261 - val_accuracy: 0.9250 - lr: 0.0010\n",
            "Epoch 13/20\n",
            "200/200 [==============================] - 304s 2s/step - loss: 0.1816 - accuracy: 0.9398 - val_loss: 0.5370 - val_accuracy: 0.9260 - lr: 0.0010\n",
            "Epoch 14/20\n",
            "200/200 [==============================] - 307s 2s/step - loss: 0.1564 - accuracy: 0.9476 - val_loss: 0.5263 - val_accuracy: 0.9266 - lr: 0.0010\n",
            "Epoch 15/20\n",
            "200/200 [==============================] - 308s 2s/step - loss: 0.1625 - accuracy: 0.9417 - val_loss: 0.5345 - val_accuracy: 0.9266 - lr: 0.0010\n",
            "Epoch 16/20\n",
            "200/200 [==============================] - 303s 2s/step - loss: 0.1432 - accuracy: 0.9517 - val_loss: 0.5632 - val_accuracy: 0.9226 - lr: 0.0010\n",
            "Epoch 17/20\n",
            "200/200 [==============================] - 306s 2s/step - loss: 0.1463 - accuracy: 0.9505 - val_loss: 0.6007 - val_accuracy: 0.9137 - lr: 0.0010\n",
            "Epoch 18/20\n",
            "200/200 [==============================] - 307s 2s/step - loss: 0.1390 - accuracy: 0.9516 - val_loss: 0.5255 - val_accuracy: 0.9307 - lr: 0.0010\n",
            "Epoch 19/20\n",
            "200/200 [==============================] - 312s 2s/step - loss: 0.1411 - accuracy: 0.9487 - val_loss: 0.5236 - val_accuracy: 0.9283 - lr: 0.0010\n",
            "Epoch 20/20\n",
            "200/200 [==============================] - 303s 2s/step - loss: 0.1366 - accuracy: 0.9519 - val_loss: 0.5125 - val_accuracy: 0.9426 - lr: 0.0010\n"
          ]
        },
        {
          "data": {
            "text/plain": [
              "<keras.src.callbacks.History at 0x7c2352e1e4a0>"
            ]
          },
          "execution_count": 20,
          "metadata": {},
          "output_type": "execute_result"
        }
      ],
      "source": [
        "model_main.fit(train,validation_data=valid,epochs=20,steps_per_epoch=200,verbose=1,callbacks=[es, lr])"
      ]
    },
    {
      "cell_type": "code",
      "execution_count": 22,
      "metadata": {
        "colab": {
          "base_uri": "https://localhost:8080/"
        },
        "id": "h_27jfyx_qd-",
        "outputId": "992394d1-088e-4c2f-993e-3db4e0937f7a"
      },
      "outputs": [
        {
          "name": "stderr",
          "output_type": "stream",
          "text": [
            "/usr/local/lib/python3.10/dist-packages/keras/src/engine/training.py:3000: UserWarning: You are saving your model as an HDF5 file via `model.save()`. This file format is considered legacy. We recommend using instead the native Keras format, e.g. `model.save('my_model.keras')`.\n",
            "  saving_api.save_model(\n"
          ]
        }
      ],
      "source": [
        "\n",
        "model_main.save(\"efficientnetv2s_PLANT_DISEASE_new_new.h5\")\n"
      ]
    },
    {
      "cell_type": "code",
      "execution_count": 24,
      "metadata": {
        "id": "51M8t6gYAu-S"
      },
      "outputs": [],
      "source": [
        "model_main.save('/content/drive/MyDrive/saved_model/PD_model.h5')"
      ]
    },
    {
      "cell_type": "code",
      "execution_count": 25,
      "metadata": {
        "id": "z3bRlqJ2CrUm"
      },
      "outputs": [],
      "source": [
        "import matplotlib.pyplot as plt\n",
        "%matplotlib inline\n",
        "import cv2\n",
        "from PIL import Image"
      ]
    },
    {
      "cell_type": "code",
      "execution_count": 26,
      "metadata": {
        "colab": {
          "base_uri": "https://localhost:8080/",
          "height": 504
        },
        "id": "pS8fX1FRCtu2",
        "outputId": "2249109a-3a38-424c-f301-4b8ea9b6881f"
      },
      "outputs": [
        {
          "data": {
            "text/plain": [
              "Text(0.5, 1.0, 'model loss')"
            ]
          },
          "execution_count": 26,
          "metadata": {},
          "output_type": "execute_result"
        },
        {
          "data": {
            "image/png": "[encoded data removed]",
            "text/plain": [
              "<Figure size 1000x500 with 1 Axes>"
            ]
          },
          "metadata": {},
          "output_type": "display_data"
        }
      ],
      "source": [
        "plt.figure(figsize=(10,5))\n",
        "plt.plot(model_main.history.history['loss'],color='b',label='Training loss')\n",
        "plt.plot(model_main.history.history['val_loss'],color='r',label='Validation loss')\n",
        "plt.xlabel(\"epochs\")\n",
        "plt.ylabel(\"loss\")\n",
        "plt.legend(['train', 'validation'], loc='upper right')\n",
        "plt.title(\"model loss\")"
      ]
    },
    {
      "cell_type": "code",
      "execution_count": 27,
      "metadata": {
        "colab": {
          "base_uri": "https://localhost:8080/",
          "height": 504
        },
        "id": "m_SdqCV6CyLo",
        "outputId": "89a56c6f-9b8b-41af-af4c-ce90e001a34c"
      },
      "outputs": [
        {
          "data": {
            "text/plain": [
              "Text(0.5, 1.0, 'model accuracy')"
            ]
          },
          "execution_count": 27,
          "metadata": {},
          "output_type": "execute_result"
        },
        {
          "data": {
            "image/png": "[encoded data removed]",
            "text/plain": [
              "<Figure size 1000x500 with 1 Axes>"
            ]
          },
          "metadata": {},
          "output_type": "display_data"
        }
      ],
      "source": [
        "plt.figure(figsize=(10,5))\n",
        "plt.plot(model_main.history.history['accuracy'],color='b',label='Training accuracy')\n",
        "plt.plot(model_main.history.history['val_accuracy'],color='r',label='Validation accsuracy')\n",
        "plt.xlabel(\"epochs\")\n",
        "plt.ylabel(\"accuracy\")\n",
        "plt.legend(['train', 'validation'], loc='lower right')\n",
        "plt.title(\"model accuracy\")"
      ]
    },
    {
      "cell_type": "code",
      "execution_count": 28,
      "metadata": {
        "colab": {
          "base_uri": "https://localhost:8080/"
        },
        "id": "wOFIQqYwC2cc",
        "outputId": "ae1da5ee-87fb-4de8-a6ed-d8c716da5717"
      },
      "outputs": [
        {
          "name": "stdout",
          "output_type": "stream",
          "text": [
            "1275/1275 [==============================] - 656s 515ms/step - loss: 0.1116 - accuracy: 0.9621\n",
            "Train: accuracy = 0.962130  ;  loss = 0.111555\n",
            "1599/1599 [==============================] - 223s 139ms/step - loss: 0.5125 - accuracy: 0.9426\n",
            "Validation: accuracy = 0.942650  ;  loss = 0.512522\n",
            "1599/1599 [==============================] - 252s 157ms/step - loss: 0.5125 - accuracy: 0.9426\n",
            "Test: accuracy = 0.942650  ;  loss = 0.512522\n"
          ]
        }
      ],
      "source": [
        "loss, accuracy = model_main.evaluate(train, verbose=1)\n",
        "print(\"Train: accuracy = %f  ;  loss = %f\" % (accuracy, loss))\n",
        "\n",
        "loss, accuracy = model_main.evaluate(valid, verbose=1)\n",
        "print(\"Validation: accuracy = %f  ;  loss = %f\" % (accuracy, loss))\n",
        "\n",
        "loss, accuracy = model_main.evaluate(test, verbose=1)\n",
        "print(\"Test: accuracy = %f  ;  loss = %f\" % (accuracy, loss))"
      ]
    },
    {
      "cell_type": "code",
      "execution_count": 29,
      "metadata": {
        "id": "sccIb8JLKeQn"
      },
      "outputs": [],
      "source": [
        "model = load_model(\"/content/drive/MyDrive/saved_model/PD_model.h5\")"
      ]
    },
    {
      "cell_type": "code",
      "execution_count": 30,
      "metadata": {
        "colab": {
          "base_uri": "https://localhost:8080/"
        },
        "id": "uAEyf0hQLik-",
        "outputId": "36d701d8-392f-42f8-f6a0-0ec1e743f6e9"
      },
      "outputs": [
        {
          "name": "stdout",
          "output_type": "stream",
          "text": [
            "1/1 [==============================] - 51s 51s/step\n"
          ]
        }
      ],
      "source": [
        "img = tensorflow.keras.utils.load_img(\n",
        "    \"/content/drive/MyDrive/Agrifirst/Testing_Path/Aloevera___rust/ru1 (100).jpg\",\n",
        "    target_size=(224, 224, 3)\n",
        ")\n",
        "input_arr = tensorflow.keras.preprocessing.image.img_to_array(img)\n",
        "input_arr = np.array([input_arr])\n",
        "result = model.predict(input_arr)"
      ]
    },
    {
      "cell_type": "code",
      "execution_count": 31,
      "metadata": {
        "id": "gb02WYXxLq58"
      },
      "outputs": [],
      "source": [
        "probability_model = tensorflow.keras.Sequential([model,\n",
        "                                         tensorflow.keras.layers.Softmax()])"
      ]
    },
    {
      "cell_type": "code",
      "execution_count": 32,
      "metadata": {
        "colab": {
          "base_uri": "https://localhost:8080/"
        },
        "id": "lrCNmeXpMI4s",
        "outputId": "2af838a7-6fe8-43f3-c9ec-e277a494f0e8"
      },
      "outputs": [
        {
          "name": "stdout",
          "output_type": "stream",
          "text": [
            "1/1 [==============================] - 6s 6s/step\n"
          ]
        }
      ],
      "source": [
        "predict = probability_model.predict(input_arr)"
      ]
    },
    {
      "cell_type": "code",
      "execution_count": 33,
      "metadata": {
        "colab": {
          "base_uri": "https://localhost:8080/"
        },
        "id": "f3RdujyiMLvP",
        "outputId": "96b2b934-5cfc-4c72-f2d3-66d37e066fa0"
      },
      "outputs": [
        {
          "data": {
            "text/plain": [
              "array([0.02011335, 0.02011373, 0.05467239, 0.02011336, 0.02011335,\n",
              "       0.02011337, 0.02011334, 0.02011334, 0.02011336, 0.02011334,\n",
              "       0.02011334, 0.02011334, 0.02011334, 0.02011334, 0.02011334,\n",
              "       0.02011334, 0.02011334, 0.02011334, 0.02011334, 0.02011334,\n",
              "       0.02011334, 0.02011334, 0.02011334, 0.02011334, 0.02011334,\n",
              "       0.02011334, 0.02011334, 0.02011334, 0.02011334, 0.02011334,\n",
              "       0.02011334, 0.02011334, 0.02011334, 0.02011334, 0.02011334,\n",
              "       0.02011334, 0.02011334, 0.02011334, 0.02011334, 0.02011334,\n",
              "       0.02011338, 0.02011334, 0.02011334, 0.02011334, 0.02011334,\n",
              "       0.02011334, 0.02011334, 0.02011334], dtype=float32)"
            ]
          },
          "execution_count": 33,
          "metadata": {},
          "output_type": "execute_result"
        }
      ],
      "source": [
        "predict[0]"
      ]
    },
    {
      "cell_type": "code",
      "execution_count": 34,
      "metadata": {
        "id": "kHd9geZOMOqm"
      },
      "outputs": [],
      "source": [
        "classes = ['Aloevera___healthy_leaf', 'Aloevera___rot', 'Aloevera___rust', 'Apple___Apple_scab', 'Apple___Black_rot', 'Apple___Cedar_apple_rust', 'Apple___healthy', 'Background_without_leaves', 'Cherry___healthy', 'Cherry___Powdery_mildew', 'Corn___Cercospora_leaf_spot Gray_leaf_spot', 'Corn___Common_rust', 'Corn___healthy', 'Corn___Northern_Leaf_Blight', 'Grape___Black_rot', 'Grape___Esca_(Black_Measles)', 'Grape___healthy', 'Grape___Leaf_blight_(Isariopsis_Leaf_Spot)', 'Peach___Bacterial_spot', 'Peach___healthy', 'Pepper,_bell___Bacterial_spot', 'Pepper,_bell___healthy', 'Potato___Early_blight', 'Potato___healthy', 'Potato___Late_blight', 'Rose___Healthy_Leaf', 'Rose___Rust', 'Rose___sawfly_Rose_slug', 'Strawberry___healthy', 'Strawberry___Leaf_scorch', 'Tea___algal leaf', 'Tea___Anthracnose', 'Tea___bird eye spot', 'Tea___brown blight', 'Tea___gray light', 'Tea___healthy', 'Tea___red leaf spot', 'Tea___white spot', 'Tomato___Bacterial_spot', 'Tomato___Early_blight', 'Tomato___healthy', 'Tomato___Late_blight', 'Tomato___Leaf_Mold', 'Tomato___Septoria_leaf_spot', 'Tomato___Spider_mites Two-spotted_spider_mite', 'Tomato___Target_Spot', 'Tomato___Tomato_mosaic_virus', 'Tomato___Tomato_Yellow_Leaf_Curl_Virus']\n"
      ]
    },
    {
      "cell_type": "code",
      "execution_count": 35,
      "metadata": {
        "colab": {
          "base_uri": "https://localhost:8080/"
        },
        "id": "IPFfhAOhSzfm",
        "outputId": "14e9b433-35db-4932-a2b0-c0af2805c32a"
      },
      "outputs": [
        {
          "name": "stdout",
          "output_type": "stream",
          "text": [
            "Aloevera___rust\n"
          ]
        }
      ],
      "source": [
        "p = np.argmax(predict[0])\n",
        "print(classes[p])"
      ]
    }
  ],
  "metadata": {
    "accelerator": "GPU",
    "colab": {
      "gpuType": "T4",
      "provenance": []
    },
    "kernelspec": {
      "display_name": "Python 3",
      "name": "python3"
    },
    "language_info": {
      "name": "python"
    }
  },
  "nbformat": 4,
  "nbformat_minor": 0
}
