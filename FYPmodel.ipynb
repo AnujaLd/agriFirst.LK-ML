{
  "cells": [
    {
      "cell_type": "code",
      "execution_count": 1,
      "metadata": {
        "id": "YotaxXYcNOVl"
      },
      "outputs": [],
      "source": [
        "!mkdir -p ~/.kaggle\n",
        "!cp kaggle.json ~/.kaggle/\n",
        "!chmod 600 ~/.kaggle/kaggle.json"
      ]
    },
    {
      "cell_type": "code",
      "execution_count": 2,
      "metadata": {
        "colab": {
          "base_uri": "https://localhost:8080/"
        },
        "id": "MzL-e-g4NXHt",
        "outputId": "9d10afc3-688b-4a7e-c4da-c901350542ee"
      },
      "outputs": [
        {
          "name": "stdout",
          "output_type": "stream",
          "text": [
            "Downloading new-plant-diseases-dataset.zip to /content\n",
            " 99% 2.68G/2.70G [00:23<00:00, 175MB/s]\n",
            "100% 2.70G/2.70G [00:23<00:00, 122MB/s]\n"
          ]
        }
      ],
      "source": [
        "!kaggle datasets download -d vipoooool/new-plant-diseases-dataset"
      ]
    },
    {
      "cell_type": "code",
      "execution_count": 3,
      "metadata": {
        "id": "nQKHDBx-NfN5"
      },
      "outputs": [],
      "source": [
        "import zipfile\n",
        "\n",
        "zip_file_path = '/content/new-plant-diseases-dataset.zip'\n",
        "extract_path = '/content'\n",
        "\n",
        "# Unzip the file\n",
        "with zipfile.ZipFile(zip_file_path, 'r') as zip_ref:\n",
        "    zip_ref.extractall(extract_path)"
      ]
    },
    {
      "cell_type": "code",
      "execution_count": 4,
      "metadata": {
        "id": "RWG_rqfdNsns"
      },
      "outputs": [],
      "source": [
        "\n",
        "train_dir ='/content/New Plant Diseases Dataset(Augmented)/New Plant Diseases Dataset(Augmented)/train'\n",
        "valid_dir = '/content/New Plant Diseases Dataset(Augmented)/New Plant Diseases Dataset(Augmented)/valid'\n",
        "test_dir = '/content/test'"
      ]
    },
    {
      "cell_type": "code",
      "execution_count": 5,
      "metadata": {
        "id": "YLKyqik8Nuyc"
      },
      "outputs": [],
      "source": [
        "import tensorflow\n",
        "from tensorflow import keras\n",
        "from tensorflow.keras.applications.efficientnet_v2 import EfficientNetV2S\n",
        "from tensorflow.keras.preprocessing import image\n",
        "from tensorflow.keras.models import load_model\n",
        "from tensorflow.keras.applications.efficientnet_v2 import preprocess_input, decode_predictions\n",
        "from tensorflow.keras.utils import to_categorical\n",
        "import numpy as np\n",
        "import os, shutil"
      ]
    },
    {
      "cell_type": "code",
      "execution_count": 6,
      "metadata": {
        "id": "QppGM24DNxlE"
      },
      "outputs": [],
      "source": [
        "from keras.models import Sequential,load_model,Model\n",
        "from keras.layers import Conv2D,MaxPool2D,AveragePooling2D,Dense,Flatten,ZeroPadding2D,BatchNormalization,Activation,Add,Input,Dropout,GlobalAveragePooling2D\n",
        "from keras.initializers import glorot_uniform\n",
        "from keras.preprocessing.image import ImageDataGenerator\n",
        "from keras.callbacks import ModelCheckpoint,EarlyStopping,ReduceLROnPlateau"
      ]
    },
    {
      "cell_type": "code",
      "execution_count": 7,
      "metadata": {
        "id": "AF5vwkD1N0H8"
      },
      "outputs": [],
      "source": [
        "newpath = '/content/Testing_Path'\n",
        "if not os.path.exists(newpath):\n",
        "    os.makedirs(newpath)\n",
        "\n",
        "x = os.listdir(train_dir)\n",
        "for dir_names in x:\n",
        "  # print(dir_names)\n",
        "  p = os.listdir(os.path.join(train_dir, dir_names))\n",
        "  if not os.path.exists(os.path.join(newpath, dir_names)):\n",
        "    os.makedirs(os.path.join(newpath, dir_names))\n",
        "  cnt = 0\n",
        "  file_names = []\n",
        "  for image_names in p:\n",
        "    if cnt==250:\n",
        "      break\n",
        "    file_names.append(train_dir+'/'+dir_names+'/'+image_names)\n",
        "    cnt += 1\n",
        "  for f in file_names:\n",
        "    shutil.move(f, os.path.join(newpath, dir_names))\n",
        "\n",
        "\n"
      ]
    },
    {
      "cell_type": "code",
      "execution_count": 8,
      "metadata": {
        "colab": {
          "base_uri": "https://localhost:8080/"
        },
        "id": "OQfOawA4N1lV",
        "outputId": "2899abaf-a9e9-4c8a-b46a-591e446b669f"
      },
      "outputs": [
        {
          "name": "stdout",
          "output_type": "stream",
          "text": [
            "Found 60795 images belonging to 38 classes.\n",
            "Found 17572 images belonging to 38 classes.\n",
            "Found 33 images belonging to 1 classes.\n"
          ]
        }
      ],
      "source": [
        "train_datagen = ImageDataGenerator(shear_range=0.2,zoom_range=0.2,horizontal_flip=False,vertical_flip=False\n",
        "                                  ,fill_mode='nearest',width_shift_range=0.2,height_shift_range=0.2)\n",
        "\n",
        "val_datagen = ImageDataGenerator()\n",
        "\n",
        "train = train_datagen.flow_from_directory(directory=train_dir,batch_size=32,target_size=(224,224),\n",
        "                                         color_mode='rgb',class_mode='categorical',seed=42)\n",
        "\n",
        "valid = val_datagen.flow_from_directory(directory=valid_dir,batch_size=32,target_size=(224,224),color_mode='rgb',class_mode='categorical')\n",
        "\n",
        "test_datagen = ImageDataGenerator()\n",
        "\n",
        "test = test_datagen.flow_from_directory(directory=test_dir,batch_size=32,target_size=(224,224),color_mode='rgb',class_mode='categorical')"
      ]
    },
    {
      "cell_type": "code",
      "execution_count": 9,
      "metadata": {
        "colab": {
          "base_uri": "https://localhost:8080/"
        },
        "id": "J2QdfvevN4Zn",
        "outputId": "90e6e8fa-837d-4b35-bab4-050f8309d9a0"
      },
      "outputs": [
        {
          "name": "stdout",
          "output_type": "stream",
          "text": [
            "Downloading data from https://storage.googleapis.com/tensorflow/keras-applications/efficientnet_v2/efficientnetv2-s_notop.h5\n",
            "82420632/82420632 [==============================] - 0s 0us/step\n"
          ]
        }
      ],
      "source": [
        "base_model_tf=EfficientNetV2S(include_top=False,weights='imagenet',input_shape=(224,224,3),classes=38)"
      ]
    },
    {
      "cell_type": "code",
      "execution_count": 10,
      "metadata": {
        "colab": {
          "base_uri": "https://localhost:8080/"
        },
        "id": "hUIcyxfXN7jP",
        "outputId": "94eb3cd7-181f-4b0b-abe3-719cb95b3f3c"
      },
      "outputs": [
        {
          "name": "stdout",
          "output_type": "stream",
          "text": [
            "Model: \"model\"\n",
            "_________________________________________________________________\n",
            " Layer (type)                Output Shape              Param #   \n",
            "=================================================================\n",
            " input_2 (InputLayer)        [(None, 224, 224, 3)]     0         \n",
            "                                                                 \n",
            " tf.cast (TFOpLambda)        (None, 224, 224, 3)       0         \n",
            "                                                                 \n",
            " efficientnetv2-s (Function  (None, 7, 7, 1280)        20331360  \n",
            " al)                                                             \n",
            "                                                                 \n",
            " global_average_pooling2d (  (None, 1280)              0         \n",
            " GlobalAveragePooling2D)                                         \n",
            "                                                                 \n",
            " dense (Dense)               (None, 128)               163968    \n",
            "                                                                 \n",
            " dense_1 (Dense)             (None, 64)                8256      \n",
            "                                                                 \n",
            " dense_2 (Dense)             (None, 38)                2470      \n",
            "                                                                 \n",
            "=================================================================\n",
            "Total params: 20506054 (78.22 MB)\n",
            "Trainable params: 174694 (682.40 KB)\n",
            "Non-trainable params: 20331360 (77.56 MB)\n",
            "_________________________________________________________________\n"
          ]
        }
      ],
      "source": [
        "base_model_tf.trainable=False\n",
        "\n",
        "pt=Input(shape=(224,224,3))\n",
        "func=tensorflow.cast(pt,tensorflow.float32)\n",
        "x=preprocess_input(func) #This function used to zero-center each color channel wrt Imagenet dataset\n",
        "model_resnet=base_model_tf(x,training=False)\n",
        "model_resnet=GlobalAveragePooling2D()(model_resnet)\n",
        "model_resnet=Dense(128,activation='relu')(model_resnet)\n",
        "model_resnet=Dense(64,activation='relu')(model_resnet)\n",
        "model_resnet=Dense(38,activation='softmax')(model_resnet)\n",
        "\n",
        "\n",
        "model_main=Model(inputs=pt,outputs=model_resnet)\n",
        "model_main.summary()"
      ]
    },
    {
      "cell_type": "code",
      "execution_count": 11,
      "metadata": {
        "id": "dMNY3E9KN-S_"
      },
      "outputs": [],
      "source": [
        "es=EarlyStopping(monitor='accuracy',verbose=1,patience=5,mode='auto')\n",
        "mc=ModelCheckpoint(filepath='/content',monitor='val_accuracy',verbose=1,save_best_only=True)\n",
        "lr=ReduceLROnPlateau(monitor='val_accuracy',verbose=1,patience=3,min_lr=0.001)"
      ]
    },
    {
      "cell_type": "code",
      "execution_count": 12,
      "metadata": {
        "id": "BLP_-BReOAPY"
      },
      "outputs": [],
      "source": [
        "model_main.compile(optimizer='Adam',loss='categorical_crossentropy',metrics=['accuracy'])"
      ]
    },
    {
      "cell_type": "code",
      "execution_count": 13,
      "metadata": {
        "colab": {
          "base_uri": "https://localhost:8080/"
        },
        "id": "u0r40RhvOCbP",
        "outputId": "dccaeb1e-b322-4622-9e3e-d0797d8c638c"
      },
      "outputs": [
        {
          "name": "stdout",
          "output_type": "stream",
          "text": [
            "Epoch 1/40\n",
            "200/200 [==============================] - 192s 841ms/step - loss: 1.5856 - accuracy: 0.5752 - val_loss: 0.7127 - val_accuracy: 0.7888 - lr: 0.0010\n",
            "Epoch 2/40\n",
            "200/200 [==============================] - 160s 803ms/step - loss: 0.5486 - accuracy: 0.8367 - val_loss: 0.4771 - val_accuracy: 0.8495 - lr: 0.0010\n",
            "Epoch 3/40\n",
            "200/200 [==============================] - 176s 881ms/step - loss: 0.3674 - accuracy: 0.8859 - val_loss: 0.3477 - val_accuracy: 0.8885 - lr: 0.0010\n",
            "Epoch 4/40\n",
            "200/200 [==============================] - 161s 805ms/step - loss: 0.3240 - accuracy: 0.8963 - val_loss: 0.2625 - val_accuracy: 0.9177 - lr: 0.0010\n",
            "Epoch 5/40\n",
            "200/200 [==============================] - 160s 799ms/step - loss: 0.2762 - accuracy: 0.9150 - val_loss: 0.2488 - val_accuracy: 0.9190 - lr: 0.0010\n",
            "Epoch 6/40\n",
            "200/200 [==============================] - 158s 789ms/step - loss: 0.2556 - accuracy: 0.9187 - val_loss: 0.2696 - val_accuracy: 0.9104 - lr: 0.0010\n",
            "Epoch 7/40\n",
            "200/200 [==============================] - 172s 863ms/step - loss: 0.2388 - accuracy: 0.9212 - val_loss: 0.2191 - val_accuracy: 0.9262 - lr: 0.0010\n",
            "Epoch 8/40\n",
            "200/200 [==============================] - 156s 780ms/step - loss: 0.2256 - accuracy: 0.9239 - val_loss: 0.2137 - val_accuracy: 0.9289 - lr: 0.0010\n",
            "Epoch 9/40\n",
            "200/200 [==============================] - 156s 781ms/step - loss: 0.2033 - accuracy: 0.9341 - val_loss: 0.1913 - val_accuracy: 0.9354 - lr: 0.0010\n",
            "Epoch 10/40\n",
            "200/200 [==============================] - 157s 787ms/step - loss: 0.1878 - accuracy: 0.9384 - val_loss: 0.1808 - val_accuracy: 0.9389 - lr: 0.0010\n",
            "Epoch 11/40\n",
            "200/200 [==============================] - 156s 779ms/step - loss: 0.1774 - accuracy: 0.9408 - val_loss: 0.1894 - val_accuracy: 0.9354 - lr: 0.0010\n",
            "Epoch 12/40\n",
            "200/200 [==============================] - 156s 781ms/step - loss: 0.1781 - accuracy: 0.9373 - val_loss: 0.1608 - val_accuracy: 0.9456 - lr: 0.0010\n",
            "Epoch 13/40\n",
            "200/200 [==============================] - 156s 780ms/step - loss: 0.1711 - accuracy: 0.9408 - val_loss: 0.1622 - val_accuracy: 0.9461 - lr: 0.0010\n",
            "Epoch 14/40\n",
            "200/200 [==============================] - 156s 782ms/step - loss: 0.1590 - accuracy: 0.9456 - val_loss: 0.1512 - val_accuracy: 0.9503 - lr: 0.0010\n",
            "Epoch 15/40\n",
            "200/200 [==============================] - 156s 782ms/step - loss: 0.1578 - accuracy: 0.9456 - val_loss: 0.1569 - val_accuracy: 0.9471 - lr: 0.0010\n",
            "Epoch 16/40\n",
            "200/200 [==============================] - 155s 776ms/step - loss: 0.1584 - accuracy: 0.9475 - val_loss: 0.1401 - val_accuracy: 0.9521 - lr: 0.0010\n",
            "Epoch 17/40\n",
            "200/200 [==============================] - 156s 780ms/step - loss: 0.1560 - accuracy: 0.9505 - val_loss: 0.1714 - val_accuracy: 0.9410 - lr: 0.0010\n",
            "Epoch 18/40\n",
            "200/200 [==============================] - 156s 782ms/step - loss: 0.1560 - accuracy: 0.9506 - val_loss: 0.1236 - val_accuracy: 0.9588 - lr: 0.0010\n",
            "Epoch 19/40\n",
            "200/200 [==============================] - 156s 780ms/step - loss: 0.1603 - accuracy: 0.9444 - val_loss: 0.1287 - val_accuracy: 0.9560 - lr: 0.0010\n",
            "Epoch 20/40\n",
            "200/200 [==============================] - 171s 856ms/step - loss: 0.1420 - accuracy: 0.9523 - val_loss: 0.1513 - val_accuracy: 0.9485 - lr: 0.0010\n",
            "Epoch 21/40\n",
            "200/200 [==============================] - 155s 777ms/step - loss: 0.1386 - accuracy: 0.9536 - val_loss: 0.1449 - val_accuracy: 0.9529 - lr: 0.0010\n",
            "Epoch 22/40\n",
            "200/200 [==============================] - 156s 780ms/step - loss: 0.1474 - accuracy: 0.9503 - val_loss: 0.1323 - val_accuracy: 0.9540 - lr: 0.0010\n",
            "Epoch 23/40\n",
            "200/200 [==============================] - 155s 779ms/step - loss: 0.1245 - accuracy: 0.9577 - val_loss: 0.1286 - val_accuracy: 0.9556 - lr: 0.0010\n",
            "Epoch 24/40\n",
            "200/200 [==============================] - 155s 776ms/step - loss: 0.1272 - accuracy: 0.9588 - val_loss: 0.1439 - val_accuracy: 0.9508 - lr: 0.0010\n",
            "Epoch 25/40\n",
            "200/200 [==============================] - 170s 851ms/step - loss: 0.1266 - accuracy: 0.9550 - val_loss: 0.1213 - val_accuracy: 0.9564 - lr: 0.0010\n",
            "Epoch 26/40\n",
            "200/200 [==============================] - 155s 777ms/step - loss: 0.1231 - accuracy: 0.9558 - val_loss: 0.1236 - val_accuracy: 0.9595 - lr: 0.0010\n",
            "Epoch 27/40\n",
            "200/200 [==============================] - 155s 776ms/step - loss: 0.1313 - accuracy: 0.9533 - val_loss: 0.1632 - val_accuracy: 0.9439 - lr: 0.0010\n",
            "Epoch 28/40\n",
            "200/200 [==============================] - 155s 776ms/step - loss: 0.1099 - accuracy: 0.9656 - val_loss: 0.1534 - val_accuracy: 0.9477 - lr: 0.0010\n",
            "Epoch 29/40\n",
            "200/200 [==============================] - 156s 779ms/step - loss: 0.1074 - accuracy: 0.9652 - val_loss: 0.1221 - val_accuracy: 0.9569 - lr: 0.0010\n",
            "Epoch 30/40\n",
            "200/200 [==============================] - 155s 774ms/step - loss: 0.1220 - accuracy: 0.9603 - val_loss: 0.1126 - val_accuracy: 0.9607 - lr: 0.0010\n",
            "Epoch 31/40\n",
            "200/200 [==============================] - 154s 772ms/step - loss: 0.1063 - accuracy: 0.9658 - val_loss: 0.1146 - val_accuracy: 0.9626 - lr: 0.0010\n",
            "Epoch 32/40\n",
            "200/200 [==============================] - 154s 770ms/step - loss: 0.1118 - accuracy: 0.9608 - val_loss: 0.1187 - val_accuracy: 0.9593 - lr: 0.0010\n",
            "Epoch 33/40\n",
            "200/200 [==============================] - 153s 767ms/step - loss: 0.1162 - accuracy: 0.9591 - val_loss: 0.1591 - val_accuracy: 0.9475 - lr: 0.0010\n",
            "Epoch 34/40\n",
            "200/200 [==============================] - 171s 855ms/step - loss: 0.1216 - accuracy: 0.9581 - val_loss: 0.1188 - val_accuracy: 0.9593 - lr: 0.0010\n",
            "Epoch 35/40\n",
            "200/200 [==============================] - 153s 767ms/step - loss: 0.1098 - accuracy: 0.9639 - val_loss: 0.1034 - val_accuracy: 0.9651 - lr: 0.0010\n",
            "Epoch 36/40\n",
            "200/200 [==============================] - 152s 761ms/step - loss: 0.0948 - accuracy: 0.9661 - val_loss: 0.0999 - val_accuracy: 0.9667 - lr: 0.0010\n",
            "Epoch 37/40\n",
            "200/200 [==============================] - 169s 849ms/step - loss: 0.1130 - accuracy: 0.9628 - val_loss: 0.1135 - val_accuracy: 0.9619 - lr: 0.0010\n",
            "Epoch 38/40\n",
            "200/200 [==============================] - 153s 769ms/step - loss: 0.1051 - accuracy: 0.9633 - val_loss: 0.1146 - val_accuracy: 0.9614 - lr: 0.0010\n",
            "Epoch 39/40\n",
            "200/200 [==============================] - 155s 777ms/step - loss: 0.1082 - accuracy: 0.9642 - val_loss: 0.1060 - val_accuracy: 0.9641 - lr: 0.0010\n",
            "Epoch 40/40\n",
            "200/200 [==============================] - 155s 777ms/step - loss: 0.1033 - accuracy: 0.9647 - val_loss: 0.1449 - val_accuracy: 0.9500 - lr: 0.0010\n"
          ]
        },
        {
          "data": {
            "text/plain": [
              "<keras.src.callbacks.History at 0x7bb59ef5cc10>"
            ]
          },
          "execution_count": 13,
          "metadata": {},
          "output_type": "execute_result"
        }
      ],
      "source": [
        "model_main.fit(train,validation_data=valid,epochs=40,steps_per_epoch=200,verbose=1,callbacks=[es, lr])"
      ]
    },
    {
      "cell_type": "code",
      "execution_count": 14,
      "metadata": {
        "colab": {
          "base_uri": "https://localhost:8080/"
        },
        "id": "fBgnU0tNphdX",
        "outputId": "415f2d6e-37e0-40d2-bf13-54b852a2766f"
      },
      "outputs": [
        {
          "name": "stderr",
          "output_type": "stream",
          "text": [
            "/usr/local/lib/python3.10/dist-packages/keras/src/engine/training.py:3079: UserWarning: You are saving your model as an HDF5 file via `model.save()`. This file format is considered legacy. We recommend using instead the native Keras format, e.g. `model.save('my_model.keras')`.\n",
            "  saving_api.save_model(\n"
          ]
        }
      ],
      "source": [
        "model_main.save(\"efficientnetv2s_PLANT_DISEASE_new_new.h5\")"
      ]
    },
    {
      "cell_type": "code",
      "execution_count": 15,
      "metadata": {
        "id": "Y9fT4WV2pqTn"
      },
      "outputs": [],
      "source": [
        "import matplotlib.pyplot as plt\n",
        "%matplotlib inline\n",
        "import cv2\n",
        "from PIL import Image"
      ]
    },
    {
      "cell_type": "code",
      "execution_count": 16,
      "metadata": {
        "colab": {
          "base_uri": "https://localhost:8080/",
          "height": 383
        },
        "id": "hKJaPZGtptAW",
        "outputId": "cc6b9b20-061f-4ef7-c2be-318e7a48e0df"
      },
      "outputs": [
        {
          "data": {
            "text/plain": [
              "Text(0.5, 1.0, 'model loss')"
            ]
          },
          "execution_count": 16,
          "metadata": {},
          "output_type": "execute_result"
        },
        {
          "data": {
            "image/png": "[encoded data removed]",
            "text/plain": [
              "<Figure size 1000x500 with 1 Axes>"
            ]
          },
          "metadata": {},
          "output_type": "display_data"
        }
      ],
      "source": [
        "plt.figure(figsize=(10,5))\n",
        "plt.plot(model_main.history.history['loss'],color='b',label='Training loss')\n",
        "plt.plot(model_main.history.history['val_loss'],color='r',label='Validation loss')\n",
        "plt.xlabel(\"epochs\")\n",
        "plt.ylabel(\"loss\")\n",
        "plt.legend(['train', 'validation'], loc='upper right')\n",
        "plt.title(\"model loss\")"
      ]
    },
    {
      "cell_type": "code",
      "execution_count": 17,
      "metadata": {
        "colab": {
          "base_uri": "https://localhost:8080/",
          "height": 380
        },
        "id": "aUfsAVqLpzrG",
        "outputId": "2bcd7320-027f-428a-e9ee-122352e59d6c"
      },
      "outputs": [
        {
          "data": {
            "text/plain": [
              "Text(0.5, 1.0, 'model accuracy')"
            ]
          },
          "execution_count": 17,
          "metadata": {},
          "output_type": "execute_result"
        },
        {
          "data": {
            "image/png": "[encoded data removed]",
            "text/plain": [
              "<Figure size 1000x500 with 1 Axes>"
            ]
          },
          "metadata": {},
          "output_type": "display_data"
        }
      ],
      "source": [
        "plt.figure(figsize=(10,5))\n",
        "plt.plot(model_main.history.history['accuracy'],color='b',label='Training accuracy')\n",
        "plt.plot(model_main.history.history['val_accuracy'],color='r',label='Validation accsuracy')\n",
        "plt.xlabel(\"epochs\")\n",
        "plt.ylabel(\"accuracy\")\n",
        "plt.legend(['train', 'validation'], loc='lower right')\n",
        "plt.title(\"model accuracy\")"
      ]
    },
    {
      "cell_type": "code",
      "execution_count": 18,
      "metadata": {
        "colab": {
          "base_uri": "https://localhost:8080/"
        },
        "id": "Wq_3oNzpp-G-",
        "outputId": "a06f8547-0642-4b28-cd35-f92a4c8cdc28"
      },
      "outputs": [
        {
          "name": "stdout",
          "output_type": "stream",
          "text": [
            "1900/1900 [==============================] - 846s 445ms/step - loss: 0.1275 - accuracy: 0.9557\n",
            "Train: accuracy = 0.955737  ;  loss = 0.127519\n",
            "550/550 [==============================] - 71s 129ms/step - loss: 0.1449 - accuracy: 0.9500\n",
            "Validation: accuracy = 0.950034  ;  loss = 0.144889\n",
            "2/2 [==============================] - 1s 489ms/step - loss: 881.7408 - accuracy: 0.0909\n",
            "Test: accuracy = 0.090909  ;  loss = 881.740845\n"
          ]
        }
      ],
      "source": [
        "loss, accuracy = model_main.evaluate(train, verbose=1)\n",
        "print(\"Train: accuracy = %f  ;  loss = %f\" % (accuracy, loss))\n",
        "\n",
        "loss, accuracy = model_main.evaluate(valid, verbose=1)\n",
        "print(\"Validation: accuracy = %f  ;  loss = %f\" % (accuracy, loss))\n",
        "\n",
        "loss, accuracy = model_main.evaluate(test, verbose=1)\n",
        "print(\"Test: accuracy = %f  ;  loss = %f\" % (accuracy, loss))"
      ]
    },
    {
      "cell_type": "code",
      "execution_count": 46,
      "metadata": {
        "id": "XUfmn6sOu-Lx"
      },
      "outputs": [],
      "source": [
        "model = load_model(\"/content/efficientnetv2s_PLANT_DISEASE_new_new.h5\")"
      ]
    },
    {
      "cell_type": "code",
      "execution_count": null,
      "metadata": {
        "id": "oGjrYCnoyuMz"
      },
      "outputs": [],
      "source": [
        "img = tensorflow.keras.utils.load_img(\n",
        "    \"/content/Testing_Path/Tomato___Early_blight/121b3f84-70ed-4d1c-882c-d3204e2af046___RS_Erly.B 8421_180deg.JPG\",\n",
        "    target_size=(224, 224, 3)\n",
        ")\n",
        "input_arr = tensorflow.keras.preprocessing.image.img_to_array(img)\n",
        "input_arr = np.array([input_arr])\n",
        "result = model.predict(input_arr)"
      ]
    },
    {
      "cell_type": "code",
      "execution_count": 47,
      "metadata": {
        "id": "lX_zkDiuzE-h"
      },
      "outputs": [],
      "source": [
        "probability_model = tensorflow.keras.Sequential([model,\n",
        "                                         tensorflow.keras.layers.Softmax()])"
      ]
    },
    {
      "cell_type": "code",
      "execution_count": 49,
      "metadata": {
        "colab": {
          "base_uri": "https://localhost:8080/"
        },
        "id": "p2V_PZFvzI_j",
        "outputId": "3158e28e-f086-4e50-b18f-600836225376"
      },
      "outputs": [
        {
          "name": "stdout",
          "output_type": "stream",
          "text": [
            "1/1 [==============================] - 0s 36ms/step\n"
          ]
        }
      ],
      "source": [
        "predict = probability_model.predict(input_arr)"
      ]
    },
    {
      "cell_type": "code",
      "execution_count": 50,
      "metadata": {
        "colab": {
          "base_uri": "https://localhost:8080/"
        },
        "id": "6HIeW5CVzOpK",
        "outputId": "fb83bb4a-74c2-4909-ba97-b9ed5bcb6537"
      },
      "outputs": [
        {
          "data": {
            "text/plain": [
              "array([0.02541284, 0.02541284, 0.02541284, 0.02541284, 0.02541284,\n",
              "       0.02541284, 0.02541284, 0.02541284, 0.02541284, 0.02541284,\n",
              "       0.02541284, 0.02541284, 0.02541284, 0.02541284, 0.02541284,\n",
              "       0.02541284, 0.02541284, 0.02541284, 0.02541284, 0.02541284,\n",
              "       0.0254129 , 0.03489043, 0.02541284, 0.02541284, 0.02541284,\n",
              "       0.02541284, 0.02541284, 0.02541284, 0.02541286, 0.05017827,\n",
              "       0.02548175, 0.02541284, 0.02541292, 0.02541284, 0.02541284,\n",
              "       0.02541284, 0.02541284, 0.02541284], dtype=float32)"
            ]
          },
          "execution_count": 50,
          "metadata": {},
          "output_type": "execute_result"
        }
      ],
      "source": [
        "predict[0]"
      ]
    },
    {
      "cell_type": "code",
      "execution_count": 51,
      "metadata": {
        "id": "yZHupkrNzR_r"
      },
      "outputs": [],
      "source": [
        "classes = ['Apple___Apple_scab', 'Apple___Black_rot', 'Apple___Cedar_apple_rust', 'Apple___healthy', 'Blueberry___healthy', 'Cherry_(including_sour)___Powdery_mildew', 'Cherry_(including_sour)___healthy', 'Corn_(maize)___Cercospora_leaf_spot Gray_leaf_spot', 'Corn_(maize)___Common_rust_', 'Corn_(maize)___Northern_Leaf_Blight', 'Corn_(maize)___healthy', 'Grape___Black_rot', 'Grape___Esca_(Black_Measles)', 'Grape___Leaf_blight_(Isariopsis_Leaf_Spot)', 'Grape___healthy', 'Orange___Haunglongbing_(Citrus_greening)', 'Peach___Bacterial_spot', 'Peach___healthy', 'Pepper,_bell___Bacterial_spot', 'Pepper,_bell___healthy', 'Potato___Early_blight', 'Potato___Late_blight', 'Potato___healthy', 'Raspberry___healthy', 'Soybean___healthy', 'Squash___Powdery_mildew', 'Strawberry___Leaf_scorch', 'Strawberry___healthy', 'Tomato___Bacterial_spot', 'Tomato___Early_blight', 'Tomato___Late_blight', 'Tomato___Leaf_Mold', 'Tomato___Septoria_leaf_spot', 'Tomato___Spider_mites Two-spotted_spider_mite', 'Tomato___Target_Spot', 'Tomato___Tomato_Yellow_Leaf_Curl_Virus', 'Tomato___Tomato_mosaic_virus', 'Tomato___healthy']"
      ]
    },
    {
      "cell_type": "code",
      "execution_count": 52,
      "metadata": {
        "colab": {
          "base_uri": "https://localhost:8080/"
        },
        "id": "QHSY1y_GzUMp",
        "outputId": "dc88d812-7801-4844-d80c-55e0c49aaf26"
      },
      "outputs": [
        {
          "name": "stdout",
          "output_type": "stream",
          "text": [
            "Tomato___Early_blight\n"
          ]
        }
      ],
      "source": [
        "p = np.argmax(predict[0])\n",
        "print(classes[p])"
      ]
    },
    {
      "cell_type": "code",
      "execution_count": 60,
      "metadata": {
        "colab": {
          "base_uri": "https://localhost:8080/"
        },
        "id": "EoEyIpYmzo7L",
        "outputId": "0cf62007-39e5-4264-ff8b-53908b7c5df1"
      },
      "outputs": [
        {
          "name": "stdout",
          "output_type": "stream",
          "text": [
            "1/1 [==============================] - 0s 384ms/step\n",
            "1/1 [==============================] - 3s 3s/step\n",
            "Pepper,_bell___Bacterial_spot\n"
          ]
        }
      ],
      "source": [
        "img = tensorflow.keras.utils.load_img(\n",
        "    \"/content/test/test/Bacterial leaf spot in pepper.jpg\",\n",
        "    target_size=(224, 224, 3)\n",
        ")\n",
        "input_arr = tensorflow.keras.preprocessing.image.img_to_array(img)\n",
        "input_arr = np.array([input_arr])\n",
        "result = model.predict(input_arr)\n",
        "\n",
        "\n",
        "probability_model = tensorflow.keras.Sequential([model,\n",
        "                                         tensorflow.keras.layers.Softmax()])\n",
        "\n",
        "\n",
        "predict = probability_model.predict(input_arr)\n",
        "\n",
        "\n",
        "predict[0]\n",
        "\n",
        "classes = ['Apple___Apple_scab', 'Apple___Black_rot', 'Apple___Cedar_apple_rust', 'Apple___healthy', 'Blueberry___healthy', 'Cherry_(including_sour)___Powdery_mildew', 'Cherry_(including_sour)___healthy', 'Corn_(maize)___Cercospora_leaf_spot Gray_leaf_spot', 'Corn_(maize)___Common_rust_', 'Corn_(maize)___Northern_Leaf_Blight', 'Corn_(maize)___healthy', 'Grape___Black_rot', 'Grape___Esca_(Black_Measles)', 'Grape___Leaf_blight_(Isariopsis_Leaf_Spot)', 'Grape___healthy', 'Orange___Haunglongbing_(Citrus_greening)', 'Peach___Bacterial_spot', 'Peach___healthy', 'Pepper,_bell___Bacterial_spot', 'Pepper,_bell___healthy', 'Potato___Early_blight', 'Potato___Late_blight', 'Potato___healthy', 'Raspberry___healthy', 'Soybean___healthy', 'Squash___Powdery_mildew', 'Strawberry___Leaf_scorch', 'Strawberry___healthy', 'Tomato___Bacterial_spot', 'Tomato___Early_blight', 'Tomato___Late_blight', 'Tomato___Leaf_Mold', 'Tomato___Septoria_leaf_spot', 'Tomato___Spider_mites Two-spotted_spider_mite', 'Tomato___Target_Spot', 'Tomato___Tomato_Yellow_Leaf_Curl_Virus', 'Tomato___Tomato_mosaic_virus', 'Tomato___healthy']\n",
        "\n",
        "p = np.argmax(predict[0])\n",
        "print(classes[p])"
      ]
    }
  ],
  "metadata": {
    "accelerator": "GPU",
    "colab": {
      "gpuType": "T4",
      "provenance": []
    },
    "kernelspec": {
      "display_name": "Python 3",
      "name": "python3"
    },
    "language_info": {
      "name": "python"
    }
  },
  "nbformat": 4,
  "nbformat_minor": 0
}
